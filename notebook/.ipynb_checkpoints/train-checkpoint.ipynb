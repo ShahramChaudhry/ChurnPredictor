{
 "cells": [
  {
   "cell_type": "code",
   "execution_count": null,
   "id": "23e8767b",
   "metadata": {},
   "outputs": [],
   "source": [
    "import pandas as pd\n",
    "import seaborn as sns\n",
    "import matplotlib.pyplot as plt\n",
    "from sklearn.model_selection import train_test_split\n",
    "from sklearn.linear_model import LogisticRegression\n",
    "from sklearn.metrics import accuracy_score, classification_report, confusion_matrix\n",
    "import joblib\n",
    "\n",
    "# 1️⃣ Load Cleaned Dataset\n",
    "df = pd.read_csv(\"../backend/data/WA_Fn-UseC_-Telco-Customer-Churn.csv\")\n",
    "\n",
    "# 2️⃣ Ensure Data is Preprocessed (Optional Step)\n",
    "df[\"TotalCharges\"] = pd.to_numeric(df[\"TotalCharges\"], errors=\"coerce\")\n",
    "df[\"TotalCharges\"].fillna(df[\"TotalCharges\"].median(), inplace=True)\n",
    "df.drop(columns=[\"customerID\"], inplace=True)\n",
    "yes_no_columns = [\"Partner\", \"Dependents\", \"PhoneService\", \"PaperlessBilling\", \"Churn\"]\n",
    "for col in yes_no_columns:\n",
    "    df[col] = df[col].map({\"Yes\": 1, \"No\": 0})\n",
    "df = pd.get_dummies(df, columns=[\"InternetService\", \"Contract\", \"PaymentMethod\"], drop_first=True)\n",
    "\n",
    "# 3️⃣ Split Data into Features (X) & Target (y)\n",
    "X = df.drop(columns=[\"Churn\"])\n",
    "y = df[\"Churn\"]\n",
    "\n",
    "# 4️⃣ Split into Train & Test Data\n",
    "X_train, X_test, y_train, y_test = train_test_split(X, y, test_size=0.2, random_state=42)\n",
    "\n",
    "print(f\"Training Data: {X_train.shape}, Testing Data: {X_test.shape}\")\n",
    "\n",
    "# 5️⃣ Train Logistic Regression Model\n",
    "model = LogisticRegression(max_iter=1000)\n",
    "model.fit(X_train, y_train)\n",
    "\n",
    "# 6️⃣ Evaluate Model Performance\n",
    "y_pred = model.predict(X_test)\n",
    "print(\"\\nModel Accuracy:\", accuracy_score(y_test, y_pred))\n",
    "print(\"\\nClassification Report:\\n\", classification_report(y_test, y_pred))\n",
    "\n",
    "# 7️⃣ Plot Confusion Matrix\n",
    "plt.figure(figsize=(6, 4))\n",
    "sns.heatmap(confusion_matrix(y_test, y_pred), annot=True, fmt=\"d\", cmap=\"Blues\")\n",
    "plt.xlabel(\"Predicted Label\")\n",
    "plt.ylabel(\"True Label\")\n",
    "plt.title(\"Confusion Matrix\")\n",
    "plt.show()\n",
    "\n",
    "# 8️⃣ Save the Trained Model\n",
    "joblib.dump(model, \"../backend/models/churn_model.pkl\")\n",
    "print(\"\\n✅ Model saved successfully for Flask API integration!\")"
   ]
  }
 ],
 "metadata": {
  "kernelspec": {
   "display_name": "Python 3 (ipykernel)",
   "language": "python",
   "name": "python3"
  },
  "language_info": {
   "codemirror_mode": {
    "name": "ipython",
    "version": 3
   },
   "file_extension": ".py",
   "mimetype": "text/x-python",
   "name": "python",
   "nbconvert_exporter": "python",
   "pygments_lexer": "ipython3",
   "version": "3.10.9"
  }
 },
 "nbformat": 4,
 "nbformat_minor": 5
}
